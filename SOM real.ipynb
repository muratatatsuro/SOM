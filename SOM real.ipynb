{
 "cells": [
  {
   "cell_type": "code",
   "execution_count": 7,
   "metadata": {
    "scrolled": false
   },
   "outputs": [
    {
     "name": "stdout",
     "output_type": "stream",
     "text": [
      "======input picture========\n"
     ]
    },
    {
     "data": {
      "image/png": "[encoded data removed]",
      "text/plain": [
       "<Figure size 432x288 with 1 Axes>"
      ]
     },
     "metadata": {},
     "output_type": "display_data"
    },
    {
     "name": "stdout",
     "output_type": "stream",
     "text": [
      "=======output picture========\n",
      "\n",
      "========15000 epochs after=========\n"
     ]
    },
    {
     "data": {
      "image/png": "[encoded data removed]",
      "text/plain": [
       "<Figure size 432x288 with 1 Axes>"
      ]
     },
     "metadata": {},
     "output_type": "display_data"
    }
   ],
   "source": [
    "import numpy as np\n",
    "import matplotlib.pyplot as plt\n",
    "%matplotlib inline\n",
    "import pandas as pd\n",
    "import random\n",
    "\n",
    "#parameters\n",
    "DESIGN_PARAMS_NUM=5#設計変数の数\n",
    "DESIGN_NUM=5#設計した個体数\n",
    "epochs=15000#学習回数\n",
    "output_size=6#出力マップサイズ\n",
    "\n",
    "#初期入力、出力データ(一次元)\n",
    "\n",
    "#正規化しておく\n",
    "x=[[np.random.rand() for _ in range(DESIGN_PARAMS_NUM)] for _ in range(DESIGN_NUM)]#ここは設計のデータによって変化させる\n",
    "y=[[np.random.rand() for _ in range(DESIGN_PARAMS_NUM)] for _ in range(output_size**2) ]#ここはランダムに初期化\n",
    "\n",
    "\n",
    "#入力データの中で関係性を示したい変数を選択\n",
    "obj_index=3\n",
    "#x\n",
    "obj_x=[ x[i][obj_index] for i in range(DESIGN_NUM)]\n",
    "obj_x_sc=[(obj_x[i]-min(obj_x))/(max(obj_x)-min(obj_x)) for i in range(DESIGN_NUM)]\n",
    "#y\n",
    "obj_y=[ y[i][obj_index] for i in range(output_size**2)]\n",
    "obj_y_sc=[(obj_y[i]-min(obj_y))/(max(obj_y)-min(obj_y)) for i in range(output_size**2)]\n",
    "\n",
    "\n",
    "#色\n",
    "\n",
    "class_div=5#分割数\n",
    "color_list_value=[[1.0,0,0],[0,1.0,0],[0,0,1.0],[0.5,0.5,0],[0.5,0,0.5]]\n",
    "color_val_class=[]\n",
    "for i in range(class_div):\n",
    "    color_val_class.append(1.0/class_div*i)\n",
    "    \n",
    "#色の割り当て\n",
    "#x\n",
    "x_color=[]\n",
    "for i in range(len(obj_x_sc)):\n",
    "    idx=0\n",
    "    while idx<class_div:\n",
    "        if idx<class_div-1:\n",
    "            if color_val_class[idx]<=obj_x_sc[i]<=color_val_class[idx+1]:\n",
    "                x_color.append(color_list_value[idx])\n",
    "        else:\n",
    "            if obj_x_sc[i]>color_val_class[idx]:\n",
    "                x_color.append(color_list_value[idx])\n",
    "        idx+=1\n",
    "        \n",
    "        \n",
    "#y\n",
    "y_color=[]\n",
    "for i in range(len(obj_y_sc)):\n",
    "    idx=0\n",
    "    while idx<class_div:\n",
    "        if idx<class_div-1:\n",
    "            if color_val_class[idx]<=obj_y_sc[i]<=color_val_class[idx+1]:\n",
    "                y_color.append(color_list_value[idx])\n",
    "        else:\n",
    "            if obj_y_sc[i]>color_val_class[idx]:\n",
    "                y_color.append(color_list_value[idx])\n",
    "        idx+=1\n",
    "\n",
    "\n",
    "y_color_map=[]\n",
    "for i in range(0,output_size**2,output_size):\n",
    "    y_color_map.append(y_color[i:i+output_size])\n",
    "\n",
    "    \n",
    "print('======input picture========')\n",
    "plt.figure()\n",
    "plt.imshow(y_color_map)\n",
    "plt.show()\n",
    "\n",
    "#x_colorが訓練データ,y_colorが教師データ\n",
    "def similarity(x_color,y_color,index_x,index_y):\n",
    "    compare_x=x_color[index_x]\n",
    "    compare_y=y_color[index_y]\n",
    "    \n",
    "    \n",
    "    error_list=[]\n",
    "    for i in range(3):\n",
    "        error=(compare_x[i]-compare_y[i])**2\n",
    "        error_list.append(error)\n",
    "       \n",
    "    return np.sum(error_list)/len(error_list)\n",
    "\n",
    "\n",
    "#近傍関数\n",
    "def dis(index_1,index_2):\n",
    "    x_1,y_1=index_1%output_size,index_1//output_size\n",
    "    x_2,y_2=index_2%output_size,index_2//output_size\n",
    "    \n",
    "    return (x_1-x_2)**2+(y_1-y_2)**2\n",
    "\n",
    "\n",
    "def train(x_color,y_color,output_size,epochs):\n",
    "    alpha=1.0\n",
    "    a_size=2\n",
    "    for epoch in range(epochs):\n",
    "        for index_x in range(DESIGN_NUM):\n",
    "            similarity_list=[]\n",
    "            for index_y in range(output_size**2):\n",
    "                similarity_list.append(similarity(x_color,y_color,index_x,index_y))\n",
    "            winner=np.argmin(similarity_list)\n",
    "            for i in range(output_size**2):\n",
    "                c=a_size-dis(i,winner)\n",
    "                if c>0:\n",
    "                    y_color[i]=[mv+c*alpha*(iv-mv) for iv,mv in zip(x_color[index_x],y_color[i])]\n",
    "                    alpha=(epochs-epoch)/epochs\n",
    "                    a_size=a_size*alpha\n",
    "                \n",
    "    return y_color\n",
    "   \n",
    "    \n",
    "#結果表示\n",
    "def draw_output(output):\n",
    "    print('=======output picture========')\n",
    "    print('')\n",
    "    print('========%d epochs after========='%(epochs))\n",
    "    plt.figure()\n",
    "    plt.imshow(output)\n",
    "    plt.show()\n",
    "            \n",
    "\n",
    "y_color=train(x_color,y_color,output_size,epochs)\n",
    "output=[]\n",
    "for i in range(0,output_size**2,output_size):\n",
    "    output.append(y_color[i:i+output_size])\n",
    "    \n",
    "draw_output(output)\n",
    "\n",
    "#収束は255をどれかが超えた時\n",
    "        \n",
    "        \n",
    "        \n",
    "        \n"
   ]
  },
  {
   "cell_type": "code",
   "execution_count": 17,
   "metadata": {
    "scrolled": false
   },
   "outputs": [
    {
     "data": {
      "image/png": "[encoded data removed]",
      "text/plain": [
       "<Figure size 432x288 with 1 Axes>"
      ]
     },
     "metadata": {},
     "output_type": "display_data"
    },
    {
     "data": {
      "image/png": "[encoded data removed]",
      "text/plain": [
       "<Figure size 432x288 with 1 Axes>"
      ]
     },
     "metadata": {},
     "output_type": "display_data"
    }
   ],
   "source": [
    "#SOM\n",
    "import numpy as np\n",
    "from matplotlib import pyplot as plt\n",
    "\n",
    "class SOM():\n",
    "\n",
    "    def __init__(self, teachers, N, seed=None):\n",
    "        self.teachers = np.array(teachers)\n",
    "        self.n_teacher = self.teachers.shape[0]\n",
    "        self.N = N\n",
    "        if not seed is None:\n",
    "            np.random.seed(seed)\n",
    "\n",
    "        x, y = np.meshgrid(range(self.N), range(self.N))\n",
    "        self.c = np.hstack((y.flatten()[:, np.newaxis],\n",
    "                            x.flatten()[:, np.newaxis]))\n",
    "        self.nodes = np.random.rand(self.N*self.N,\n",
    "                                    self.teachers.shape[1])\n",
    "\n",
    "    def train(self):\n",
    "        for i, teacher in enumerate(self.teachers):\n",
    "            bmu = self._best_matching_unit(teacher)\n",
    "            d = np.linalg.norm(self.c - bmu, axis=1)\n",
    "            L = self._learning_ratio(i)\n",
    "            S = self._learning_radius(i, d)\n",
    "            self.nodes += L * S[:, np.newaxis] * (teacher - self.nodes)\n",
    "        return self.nodes\n",
    "\n",
    "    def _best_matching_unit(self, teacher):\n",
    "        #compute all norms (square)\n",
    "        norms = np.linalg.norm(self.nodes - teacher, axis=1)\n",
    "        bmu = np.argmin(norms) #argment with minimum element \n",
    "        return np.unravel_index(bmu,(self.N, self.N))\n",
    "\n",
    "    def _neighbourhood(self, t):#neighbourhood radious\n",
    "        halflife = float(self.n_teacher/4) #for testing\n",
    "        initial  = float(self.N/2)\n",
    "        return initial*np.exp(-t/halflife)\n",
    "\n",
    "    def _learning_ratio(self, t):\n",
    "        halflife = float(self.n_teacher/4) #for testing\n",
    "        initial  = 0.1\n",
    "        return initial*np.exp(-t/halflife)\n",
    "\n",
    "    def _learning_radius(self, t, d):\n",
    "        # d is distance from BMU\n",
    "        s = self._neighbourhood(t)\n",
    "        return np.exp(-d**2/(2*s**2))\n",
    "\n",
    "\n",
    "N = 20        \n",
    "teachers = np.random.rand(10000, 3)\n",
    "som = SOM(teachers, N=N, seed=10)\n",
    "\n",
    "# Initial map\n",
    "plt.imshow(som.nodes.reshape((N, N, 3)),\n",
    "           interpolation='none')\n",
    "plt.show()\n",
    "\n",
    "# Train\n",
    "som.train()\n",
    "\n",
    "# Trained MAP\n",
    "plt.imshow(som.nodes.reshape((N, N, 3)),\n",
    "           interpolation='none')\n",
    "plt.show()      "
   ]
  },
  {
   "cell_type": "code",
   "execution_count": null,
   "metadata": {},
   "outputs": [],
   "source": []
  }
 ],
 "metadata": {
  "kernelspec": {
   "display_name": "Python 3",
   "language": "python",
   "name": "python3"
  },
  "language_info": {
   "codemirror_mode": {
    "name": "ipython",
    "version": 3
   },
   "file_extension": ".py",
   "mimetype": "text/x-python",
   "name": "python",
   "nbconvert_exporter": "python",
   "pygments_lexer": "ipython3",
   "version": "3.6.6"
  }
 },
 "nbformat": 4,
 "nbformat_minor": 2
}
